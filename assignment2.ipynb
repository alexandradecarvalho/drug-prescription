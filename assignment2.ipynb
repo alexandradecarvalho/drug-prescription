{
 "cells": [
  {
   "cell_type": "markdown",
   "metadata": {},
   "source": [
    "# Data Science Fundamentals - Assignment 2\n",
    "##### By Alexandra de Carvalho, nmec 93346  "
   ]
  },
  {
   "cell_type": "markdown",
   "metadata": {},
   "source": [
    "This work aims at combining text analysis and machine learning techniques, such as prediction and classification, into a real-world case study. The tasks at hand are predicting drug effectiveness and side effects ratings, based on text reviews, as well as classifying review texts into one of three possible categories: benefit review, side effect review, or general review category. "
   ]
  },
  {
   "cell_type": "code",
   "execution_count": 3,
   "metadata": {},
   "outputs": [],
   "source": [
    "from nltk.stem.snowball import SnowballStemmer\n",
    "from sklearn.feature_extraction.text import CountVectorizer, TfidfVectorizer\n",
    "from sklearn.model_selection import KFold\n",
    "from sklearn.model_selection import GridSearchCV\n",
    "from sklearn.tree import DecisionTreeClassifier\n",
    "from sklearn import metrics\n",
    "import pandas as pd\n",
    "import numpy as np\n",
    "import re"
   ]
  },
  {
   "cell_type": "markdown",
   "metadata": {},
   "source": [
    "### Dataset Preprocessing"
   ]
  },
  {
   "cell_type": "markdown",
   "metadata": {},
   "source": [
    "Preprocessing is a key step in any analysis and can affect how good the results will be. The dataset provided is already divided into training and testing sets, but it is usefull that both go through the same preprocessing pipeline. We will load them to pandas dataframe. We can see that we have a name for the drug being reviewed, the condition it was used to treat, the overall rating (numerical 1-10) by the user, a drug effectiveness categorical rating and a benefit text review, a side effects categorical rating and a side effects text review, and an overall comment on the drug."
   ]
  },
  {
   "cell_type": "code",
   "execution_count": 4,
   "metadata": {},
   "outputs": [],
   "source": [
    "df_train = pd.read_csv('dataset/drugLibTrain_raw.tsv', sep='\\t')\n",
    "df_test = pd.read_csv('dataset/drugLibTest_raw.tsv', sep='\\t')"
   ]
  },
  {
   "cell_type": "markdown",
   "metadata": {},
   "source": [
    "Having the goal of the assignment in mind, we can understand that the first, unnamed, column, as well as the condition, aren't essential columns, and won't be used. Therefore, we can delete them."
   ]
  },
  {
   "cell_type": "code",
   "execution_count": 5,
   "metadata": {},
   "outputs": [
    {
     "data": {
      "text/html": [
       "<div>\n",
       "<style scoped>\n",
       "    .dataframe tbody tr th:only-of-type {\n",
       "        vertical-align: middle;\n",
       "    }\n",
       "\n",
       "    .dataframe tbody tr th {\n",
       "        vertical-align: top;\n",
       "    }\n",
       "\n",
       "    .dataframe thead th {\n",
       "        text-align: right;\n",
       "    }\n",
       "</style>\n",
       "<table border=\"1\" class=\"dataframe\">\n",
       "  <thead>\n",
       "    <tr style=\"text-align: right;\">\n",
       "      <th></th>\n",
       "      <th>urlDrugName</th>\n",
       "      <th>rating</th>\n",
       "      <th>effectiveness</th>\n",
       "      <th>sideEffects</th>\n",
       "      <th>benefitsReview</th>\n",
       "      <th>sideEffectsReview</th>\n",
       "      <th>commentsReview</th>\n",
       "    </tr>\n",
       "  </thead>\n",
       "  <tbody>\n",
       "    <tr>\n",
       "      <th>0</th>\n",
       "      <td>enalapril</td>\n",
       "      <td>4</td>\n",
       "      <td>Highly Effective</td>\n",
       "      <td>Mild Side Effects</td>\n",
       "      <td>slowed the progression of left ventricular dys...</td>\n",
       "      <td>cough, hypotension , proteinuria, impotence , ...</td>\n",
       "      <td>monitor blood pressure , weight and asses for ...</td>\n",
       "    </tr>\n",
       "    <tr>\n",
       "      <th>1</th>\n",
       "      <td>ortho-tri-cyclen</td>\n",
       "      <td>1</td>\n",
       "      <td>Highly Effective</td>\n",
       "      <td>Severe Side Effects</td>\n",
       "      <td>Although this type of birth control has more c...</td>\n",
       "      <td>Heavy Cycle, Cramps, Hot Flashes, Fatigue, Lon...</td>\n",
       "      <td>I Hate This Birth Control, I Would Not Suggest...</td>\n",
       "    </tr>\n",
       "    <tr>\n",
       "      <th>2</th>\n",
       "      <td>ponstel</td>\n",
       "      <td>10</td>\n",
       "      <td>Highly Effective</td>\n",
       "      <td>No Side Effects</td>\n",
       "      <td>I was used to having cramps so badly that they...</td>\n",
       "      <td>Heavier bleeding and clotting than normal.</td>\n",
       "      <td>I took 2 pills at the onset of my menstrual cr...</td>\n",
       "    </tr>\n",
       "    <tr>\n",
       "      <th>3</th>\n",
       "      <td>prilosec</td>\n",
       "      <td>3</td>\n",
       "      <td>Marginally Effective</td>\n",
       "      <td>Mild Side Effects</td>\n",
       "      <td>The acid reflux went away for a few months aft...</td>\n",
       "      <td>Constipation, dry mouth and some mild dizzines...</td>\n",
       "      <td>I was given Prilosec prescription at a dose of...</td>\n",
       "    </tr>\n",
       "    <tr>\n",
       "      <th>4</th>\n",
       "      <td>lyrica</td>\n",
       "      <td>2</td>\n",
       "      <td>Marginally Effective</td>\n",
       "      <td>Severe Side Effects</td>\n",
       "      <td>I think that the Lyrica was starting to help w...</td>\n",
       "      <td>I felt extremely drugged and dopey.  Could not...</td>\n",
       "      <td>See above</td>\n",
       "    </tr>\n",
       "    <tr>\n",
       "      <th>...</th>\n",
       "      <td>...</td>\n",
       "      <td>...</td>\n",
       "      <td>...</td>\n",
       "      <td>...</td>\n",
       "      <td>...</td>\n",
       "      <td>...</td>\n",
       "      <td>...</td>\n",
       "    </tr>\n",
       "    <tr>\n",
       "      <th>3102</th>\n",
       "      <td>vyvanse</td>\n",
       "      <td>10</td>\n",
       "      <td>Highly Effective</td>\n",
       "      <td>Mild Side Effects</td>\n",
       "      <td>Increased focus, attention, productivity. Bett...</td>\n",
       "      <td>Restless legs at night, insomnia, headache (so...</td>\n",
       "      <td>I took adderall once as a child, and it made m...</td>\n",
       "    </tr>\n",
       "    <tr>\n",
       "      <th>3103</th>\n",
       "      <td>zoloft</td>\n",
       "      <td>1</td>\n",
       "      <td>Ineffective</td>\n",
       "      <td>Extremely Severe Side Effects</td>\n",
       "      <td>Emotions were somewhat blunted. Less moodiness.</td>\n",
       "      <td>Weight gain, extreme tiredness during the day,...</td>\n",
       "      <td>I was on Zoloft for about 2 years total. I am ...</td>\n",
       "    </tr>\n",
       "    <tr>\n",
       "      <th>3104</th>\n",
       "      <td>climara</td>\n",
       "      <td>2</td>\n",
       "      <td>Marginally Effective</td>\n",
       "      <td>Moderate Side Effects</td>\n",
       "      <td>---</td>\n",
       "      <td>Constant issues with the patch not staying on....</td>\n",
       "      <td>---</td>\n",
       "    </tr>\n",
       "    <tr>\n",
       "      <th>3105</th>\n",
       "      <td>trileptal</td>\n",
       "      <td>8</td>\n",
       "      <td>Considerably Effective</td>\n",
       "      <td>Mild Side Effects</td>\n",
       "      <td>Controlled complex partial seizures.</td>\n",
       "      <td>Dizziness, fatigue, nausea</td>\n",
       "      <td>Started at 2 doses of 300 mg a day and worked ...</td>\n",
       "    </tr>\n",
       "    <tr>\n",
       "      <th>3106</th>\n",
       "      <td>micardis</td>\n",
       "      <td>4</td>\n",
       "      <td>Moderately Effective</td>\n",
       "      <td>Moderate Side Effects</td>\n",
       "      <td>The drug Micardis did seem to alleviate my hig...</td>\n",
       "      <td>I find when I am taking Micardis that I tend t...</td>\n",
       "      <td>I take Micardis in pill form once daily.</td>\n",
       "    </tr>\n",
       "  </tbody>\n",
       "</table>\n",
       "<p>3107 rows × 7 columns</p>\n",
       "</div>"
      ],
      "text/plain": [
       "           urlDrugName  rating           effectiveness  \\\n",
       "0            enalapril       4        Highly Effective   \n",
       "1     ortho-tri-cyclen       1        Highly Effective   \n",
       "2              ponstel      10        Highly Effective   \n",
       "3             prilosec       3    Marginally Effective   \n",
       "4               lyrica       2    Marginally Effective   \n",
       "...                ...     ...                     ...   \n",
       "3102           vyvanse      10        Highly Effective   \n",
       "3103            zoloft       1             Ineffective   \n",
       "3104           climara       2    Marginally Effective   \n",
       "3105         trileptal       8  Considerably Effective   \n",
       "3106          micardis       4    Moderately Effective   \n",
       "\n",
       "                        sideEffects  \\\n",
       "0                 Mild Side Effects   \n",
       "1               Severe Side Effects   \n",
       "2                   No Side Effects   \n",
       "3                 Mild Side Effects   \n",
       "4               Severe Side Effects   \n",
       "...                             ...   \n",
       "3102              Mild Side Effects   \n",
       "3103  Extremely Severe Side Effects   \n",
       "3104          Moderate Side Effects   \n",
       "3105              Mild Side Effects   \n",
       "3106          Moderate Side Effects   \n",
       "\n",
       "                                         benefitsReview  \\\n",
       "0     slowed the progression of left ventricular dys...   \n",
       "1     Although this type of birth control has more c...   \n",
       "2     I was used to having cramps so badly that they...   \n",
       "3     The acid reflux went away for a few months aft...   \n",
       "4     I think that the Lyrica was starting to help w...   \n",
       "...                                                 ...   \n",
       "3102  Increased focus, attention, productivity. Bett...   \n",
       "3103    Emotions were somewhat blunted. Less moodiness.   \n",
       "3104                                                ---   \n",
       "3105               Controlled complex partial seizures.   \n",
       "3106  The drug Micardis did seem to alleviate my hig...   \n",
       "\n",
       "                                      sideEffectsReview  \\\n",
       "0     cough, hypotension , proteinuria, impotence , ...   \n",
       "1     Heavy Cycle, Cramps, Hot Flashes, Fatigue, Lon...   \n",
       "2            Heavier bleeding and clotting than normal.   \n",
       "3     Constipation, dry mouth and some mild dizzines...   \n",
       "4     I felt extremely drugged and dopey.  Could not...   \n",
       "...                                                 ...   \n",
       "3102  Restless legs at night, insomnia, headache (so...   \n",
       "3103  Weight gain, extreme tiredness during the day,...   \n",
       "3104  Constant issues with the patch not staying on....   \n",
       "3105                         Dizziness, fatigue, nausea   \n",
       "3106  I find when I am taking Micardis that I tend t...   \n",
       "\n",
       "                                         commentsReview  \n",
       "0     monitor blood pressure , weight and asses for ...  \n",
       "1     I Hate This Birth Control, I Would Not Suggest...  \n",
       "2     I took 2 pills at the onset of my menstrual cr...  \n",
       "3     I was given Prilosec prescription at a dose of...  \n",
       "4                                             See above  \n",
       "...                                                 ...  \n",
       "3102  I took adderall once as a child, and it made m...  \n",
       "3103  I was on Zoloft for about 2 years total. I am ...  \n",
       "3104                                                ---  \n",
       "3105  Started at 2 doses of 300 mg a day and worked ...  \n",
       "3106           I take Micardis in pill form once daily.  \n",
       "\n",
       "[3107 rows x 7 columns]"
      ]
     },
     "execution_count": 5,
     "metadata": {},
     "output_type": "execute_result"
    }
   ],
   "source": [
    "df_train = df_train.loc[:, ~df_train.columns.str.contains('^Unnamed')]\n",
    "df_train = df_train.loc[:, ~df_train.columns.str.contains('condition')]\n",
    "\n",
    "df_test = df_test.loc[:, ~df_test.columns.str.contains('^Unnamed')]\n",
    "df_test = df_test.loc[:, ~df_test.columns.str.contains('condition')]\n",
    "\n",
    "df_train"
   ]
  },
  {
   "cell_type": "markdown",
   "metadata": {},
   "source": [
    "Now, we should investigate if there are any missing values. In the test dataframe, there are no missing values. Because the missing values on the training dataframe are on text reviews, they will affect our work. Since there are only 10 missing values out of 3000+ rows, removing those rows won't affect the reliability of our analysis. So, let's drop those records, as well as duplicated records."
   ]
  },
  {
   "cell_type": "code",
   "execution_count": 6,
   "metadata": {},
   "outputs": [
    {
     "data": {
      "text/plain": [
       "urlDrugName          0\n",
       "rating               0\n",
       "effectiveness        0\n",
       "sideEffects          0\n",
       "benefitsReview       0\n",
       "sideEffectsReview    2\n",
       "commentsReview       8\n",
       "dtype: int64"
      ]
     },
     "execution_count": 6,
     "metadata": {},
     "output_type": "execute_result"
    }
   ],
   "source": [
    "df_train.isna().sum()"
   ]
  },
  {
   "cell_type": "code",
   "execution_count": 7,
   "metadata": {},
   "outputs": [
    {
     "data": {
      "text/plain": [
       "urlDrugName          0\n",
       "rating               0\n",
       "effectiveness        0\n",
       "sideEffects          0\n",
       "benefitsReview       0\n",
       "sideEffectsReview    0\n",
       "commentsReview       0\n",
       "dtype: int64"
      ]
     },
     "execution_count": 7,
     "metadata": {},
     "output_type": "execute_result"
    }
   ],
   "source": [
    "df_test.isna().sum()"
   ]
  },
  {
   "cell_type": "code",
   "execution_count": 8,
   "metadata": {},
   "outputs": [
    {
     "data": {
      "text/html": [
       "<div>\n",
       "<style scoped>\n",
       "    .dataframe tbody tr th:only-of-type {\n",
       "        vertical-align: middle;\n",
       "    }\n",
       "\n",
       "    .dataframe tbody tr th {\n",
       "        vertical-align: top;\n",
       "    }\n",
       "\n",
       "    .dataframe thead th {\n",
       "        text-align: right;\n",
       "    }\n",
       "</style>\n",
       "<table border=\"1\" class=\"dataframe\">\n",
       "  <thead>\n",
       "    <tr style=\"text-align: right;\">\n",
       "      <th></th>\n",
       "      <th>urlDrugName</th>\n",
       "      <th>rating</th>\n",
       "      <th>effectiveness</th>\n",
       "      <th>sideEffects</th>\n",
       "      <th>benefitsReview</th>\n",
       "      <th>sideEffectsReview</th>\n",
       "      <th>commentsReview</th>\n",
       "    </tr>\n",
       "  </thead>\n",
       "  <tbody>\n",
       "    <tr>\n",
       "      <th>0</th>\n",
       "      <td>biaxin</td>\n",
       "      <td>9</td>\n",
       "      <td>Considerably Effective</td>\n",
       "      <td>Mild Side Effects</td>\n",
       "      <td>The antibiotic may have destroyed bacteria cau...</td>\n",
       "      <td>Some back pain, some nauseau.</td>\n",
       "      <td>Took the antibiotics for 14 days. Sinus infect...</td>\n",
       "    </tr>\n",
       "    <tr>\n",
       "      <th>1</th>\n",
       "      <td>lamictal</td>\n",
       "      <td>9</td>\n",
       "      <td>Highly Effective</td>\n",
       "      <td>Mild Side Effects</td>\n",
       "      <td>Lamictal stabilized my serious mood swings. On...</td>\n",
       "      <td>Drowsiness, a bit of mental numbness. If you t...</td>\n",
       "      <td>Severe mood swings between hypomania and depre...</td>\n",
       "    </tr>\n",
       "    <tr>\n",
       "      <th>2</th>\n",
       "      <td>depakene</td>\n",
       "      <td>4</td>\n",
       "      <td>Moderately Effective</td>\n",
       "      <td>Severe Side Effects</td>\n",
       "      <td>Initial benefits were comparable to the brand ...</td>\n",
       "      <td>Depakene has a very thin coating, which caused...</td>\n",
       "      <td>Depakote was prescribed to me by a Kaiser psyc...</td>\n",
       "    </tr>\n",
       "    <tr>\n",
       "      <th>3</th>\n",
       "      <td>sarafem</td>\n",
       "      <td>10</td>\n",
       "      <td>Highly Effective</td>\n",
       "      <td>No Side Effects</td>\n",
       "      <td>It controlls my mood swings. It helps me think...</td>\n",
       "      <td>I didnt really notice any side effects.</td>\n",
       "      <td>This drug may not be for everyone but its wond...</td>\n",
       "    </tr>\n",
       "    <tr>\n",
       "      <th>4</th>\n",
       "      <td>accutane</td>\n",
       "      <td>10</td>\n",
       "      <td>Highly Effective</td>\n",
       "      <td>Mild Side Effects</td>\n",
       "      <td>Within one week of treatment superficial acne ...</td>\n",
       "      <td>Side effects included moderate to severe dry s...</td>\n",
       "      <td>Drug was taken in gelatin tablet at 0.5 mg per...</td>\n",
       "    </tr>\n",
       "    <tr>\n",
       "      <th>...</th>\n",
       "      <td>...</td>\n",
       "      <td>...</td>\n",
       "      <td>...</td>\n",
       "      <td>...</td>\n",
       "      <td>...</td>\n",
       "      <td>...</td>\n",
       "      <td>...</td>\n",
       "    </tr>\n",
       "    <tr>\n",
       "      <th>1031</th>\n",
       "      <td>accutane</td>\n",
       "      <td>7</td>\n",
       "      <td>Considerably Effective</td>\n",
       "      <td>Severe Side Effects</td>\n",
       "      <td>Detoxing effect by pushing out the system thro...</td>\n",
       "      <td>Hairloss, extreme dry skin, itchiness, raises ...</td>\n",
       "      <td>Treatment period is 3 months/12 weeks. Dosage ...</td>\n",
       "    </tr>\n",
       "    <tr>\n",
       "      <th>1032</th>\n",
       "      <td>proair-hfa</td>\n",
       "      <td>10</td>\n",
       "      <td>Highly Effective</td>\n",
       "      <td>No Side Effects</td>\n",
       "      <td>The albuterol relieved the constriction, irrit...</td>\n",
       "      <td>I have experienced no side effects.</td>\n",
       "      <td>I use the albuterol as needed because of aller...</td>\n",
       "    </tr>\n",
       "    <tr>\n",
       "      <th>1033</th>\n",
       "      <td>accutane</td>\n",
       "      <td>8</td>\n",
       "      <td>Considerably Effective</td>\n",
       "      <td>Moderate Side Effects</td>\n",
       "      <td>Serve Acne has turned to middle</td>\n",
       "      <td>Painfull muscles, problems with seeing at night</td>\n",
       "      <td>This drug is highly teratogenic ,females must ...</td>\n",
       "    </tr>\n",
       "    <tr>\n",
       "      <th>1034</th>\n",
       "      <td>divigel</td>\n",
       "      <td>10</td>\n",
       "      <td>Highly Effective</td>\n",
       "      <td>No Side Effects</td>\n",
       "      <td>My overall mood, sense of well being, energy l...</td>\n",
       "      <td>No side effects of any kind were noted or appa...</td>\n",
       "      <td>Divigel is a topically applied Bio-Identical H...</td>\n",
       "    </tr>\n",
       "    <tr>\n",
       "      <th>1035</th>\n",
       "      <td>claripel-cream</td>\n",
       "      <td>8</td>\n",
       "      <td>Considerably Effective</td>\n",
       "      <td>Mild Side Effects</td>\n",
       "      <td>Up until 2 years ago, it worked really well on...</td>\n",
       "      <td>Have stopped using it and have also learned th...</td>\n",
       "      <td>Stopped using it for the time being.</td>\n",
       "    </tr>\n",
       "  </tbody>\n",
       "</table>\n",
       "<p>1032 rows × 7 columns</p>\n",
       "</div>"
      ],
      "text/plain": [
       "         urlDrugName  rating           effectiveness            sideEffects  \\\n",
       "0             biaxin       9  Considerably Effective      Mild Side Effects   \n",
       "1           lamictal       9        Highly Effective      Mild Side Effects   \n",
       "2           depakene       4    Moderately Effective    Severe Side Effects   \n",
       "3            sarafem      10        Highly Effective        No Side Effects   \n",
       "4           accutane      10        Highly Effective      Mild Side Effects   \n",
       "...              ...     ...                     ...                    ...   \n",
       "1031        accutane       7  Considerably Effective    Severe Side Effects   \n",
       "1032      proair-hfa      10        Highly Effective        No Side Effects   \n",
       "1033        accutane       8  Considerably Effective  Moderate Side Effects   \n",
       "1034         divigel      10        Highly Effective        No Side Effects   \n",
       "1035  claripel-cream       8  Considerably Effective      Mild Side Effects   \n",
       "\n",
       "                                         benefitsReview  \\\n",
       "0     The antibiotic may have destroyed bacteria cau...   \n",
       "1     Lamictal stabilized my serious mood swings. On...   \n",
       "2     Initial benefits were comparable to the brand ...   \n",
       "3     It controlls my mood swings. It helps me think...   \n",
       "4     Within one week of treatment superficial acne ...   \n",
       "...                                                 ...   \n",
       "1031  Detoxing effect by pushing out the system thro...   \n",
       "1032  The albuterol relieved the constriction, irrit...   \n",
       "1033                    Serve Acne has turned to middle   \n",
       "1034  My overall mood, sense of well being, energy l...   \n",
       "1035  Up until 2 years ago, it worked really well on...   \n",
       "\n",
       "                                      sideEffectsReview  \\\n",
       "0                         Some back pain, some nauseau.   \n",
       "1     Drowsiness, a bit of mental numbness. If you t...   \n",
       "2     Depakene has a very thin coating, which caused...   \n",
       "3               I didnt really notice any side effects.   \n",
       "4     Side effects included moderate to severe dry s...   \n",
       "...                                                 ...   \n",
       "1031  Hairloss, extreme dry skin, itchiness, raises ...   \n",
       "1032                I have experienced no side effects.   \n",
       "1033    Painfull muscles, problems with seeing at night   \n",
       "1034  No side effects of any kind were noted or appa...   \n",
       "1035  Have stopped using it and have also learned th...   \n",
       "\n",
       "                                         commentsReview  \n",
       "0     Took the antibiotics for 14 days. Sinus infect...  \n",
       "1     Severe mood swings between hypomania and depre...  \n",
       "2     Depakote was prescribed to me by a Kaiser psyc...  \n",
       "3     This drug may not be for everyone but its wond...  \n",
       "4     Drug was taken in gelatin tablet at 0.5 mg per...  \n",
       "...                                                 ...  \n",
       "1031  Treatment period is 3 months/12 weeks. Dosage ...  \n",
       "1032  I use the albuterol as needed because of aller...  \n",
       "1033  This drug is highly teratogenic ,females must ...  \n",
       "1034  Divigel is a topically applied Bio-Identical H...  \n",
       "1035               Stopped using it for the time being.  \n",
       "\n",
       "[1032 rows x 7 columns]"
      ]
     },
     "execution_count": 8,
     "metadata": {},
     "output_type": "execute_result"
    }
   ],
   "source": [
    "df_train = df_train.dropna()\n",
    "df_train = df_train.drop_duplicates()\n",
    "\n",
    "df_test = df_test.dropna()\n",
    "df_test = df_test.drop_duplicates()\n",
    "df_test"
   ]
  },
  {
   "cell_type": "markdown",
   "metadata": {},
   "source": [
    "### Prediction"
   ]
  },
  {
   "cell_type": "markdown",
   "metadata": {},
   "source": [
    "The pipeline will evaluate the treated text as input and preform prediction using a Decision Tree Classifier to obtain the results. The hyperparameter tunning will be preformed based on the accuracy, with a grid search. The hyperparameters used for tunning the model are the criterion, to measure the quality of the split (with values \"gini\" for the Giny impurity and \"entropy\" for the information gain), and the max_depth of the tree. The prediction function is shown below. In this case, we are using 5 splits to get 20% of the data in each fold."
   ]
  },
  {
   "cell_type": "code",
   "execution_count": 9,
   "metadata": {},
   "outputs": [],
   "source": [
    "def decision():\n",
    "    \n",
    "    l1 = np.arange(0.2, 0.9, 0.1)\n",
    "\n",
    "    param_grid = {\n",
    "        'criterion' : ['gini', 'entropy'],\n",
    "        'max_depth' : [2,4,6,8,10,12]\n",
    "    }\n",
    "\n",
    "    i = 1\n",
    "    cv = KFold(n_splits=5, shuffle=False)\n",
    "\n",
    "    return GridSearchCV(estimator=DecisionTreeClassifier(), param_grid=param_grid, cv=cv, scoring='accuracy')"
   ]
  },
  {
   "cell_type": "markdown",
   "metadata": {},
   "source": [
    "### Text Processing"
   ]
  },
  {
   "cell_type": "markdown",
   "metadata": {},
   "source": [
    "In order to understand text, it needs to be processed, so that the meaningful words can be extracted. The first step is to create a set of stopwords. The ones used here are the ones given by NLTK module. Because, in this case, we need words like 'bad' or 'not' to understand the reviews, we will not proceed with filtering small length words."
   ]
  },
  {
   "cell_type": "code",
   "execution_count": 10,
   "metadata": {},
   "outputs": [],
   "source": [
    "f = open('stopwords.txt','r')\n",
    "stopwords = set(map(lambda x: x.strip(), f.readlines()))\n",
    "f.close()"
   ]
  },
  {
   "cell_type": "markdown",
   "metadata": {},
   "source": [
    "The tokenization splits by the regular expression '\\W+', which splits any alphanumeric word by spaces and punctuation (the original expression doesn't remove underscores, so this character is then added to the list). Then, the tokenization also removes words with only numbers, and words present in the stopword set. The final step is converting all characters to lower case. Then, the stemming is done with the use of the Snowball Stemmer."
   ]
  },
  {
   "cell_type": "code",
   "execution_count": 11,
   "metadata": {},
   "outputs": [],
   "source": [
    "def tokenization(reviewText):\n",
    "    tokens_list = [word.lower() for word in re.split('[\\W+,\\_]', reviewText) if not word.isnumeric() and not word in stopwords]\n",
    "    return \" \".join([SnowballStemmer(language='english').stem(word) for word in tokens_list])"
   ]
  },
  {
   "cell_type": "markdown",
   "metadata": {},
   "source": [
    "### Feature Selection - Bag of Words (BoW)"
   ]
  },
  {
   "cell_type": "markdown",
   "metadata": {},
   "source": [
    "The first problem addressed is the classification of the review into general review, side effects review, or beneficts review. We are starting with this problem to apply the BoW, which is a simpler approach to feature selection. Since the review types should have distinct words between them, it should be the easiest problem in which to apply BoW, despite more words meaning a more sparse and a longer vector.\n",
    "\n",
    "The BoW approach captures the number of times each different word occurrs in each document of the corpus, without considering any order, modelling the documents by a feacture vector, representing the frequency of the words in it. To construct the bag of words, based on the word counts in the respective documents, let's first append the three columns as our corpus' Series, and then use the CountVectorizer class, from scikit-learn."
   ]
  },
  {
   "cell_type": "code",
   "execution_count": 12,
   "metadata": {},
   "outputs": [],
   "source": [
    "X_train = np.concatenate((df_train['benefitsReview'], df_train['sideEffectsReview'],df_train['commentsReview']))\n",
    "X_test = np.concatenate((df_test['benefitsReview'], df_test['sideEffectsReview'],df_test['commentsReview']))\n",
    "\n",
    "y = pd.Series(['benefitsReview', 'sideEffectsReview', 'commentsReview']).repeat([df_train['benefitsReview'].size,df_train['sideEffectsReview'].size, df_train['commentsReview'].size]).to_list()\n",
    "y_test = pd.Series(['benefitsReview', 'sideEffectsReview', 'commentsReview']).repeat([df_test['benefitsReview'].size,df_test['sideEffectsReview'].size, df_test['commentsReview'].size]).tolist()\n",
    "\n",
    "vectorizer = CountVectorizer()\n",
    "X_train = vectorizer.fit_transform([tokenization(val) for val in X_train]).toarray() # creating the feature matrix\n",
    "X_test = vectorizer.transform([tokenization(val) for val in X_test]).toarray() # creating the feature matrix\n",
    "\n",
    "dt = decision()"
   ]
  },
  {
   "cell_type": "markdown",
   "metadata": {},
   "source": [
    "##### Results"
   ]
  },
  {
   "cell_type": "markdown",
   "metadata": {},
   "source": [
    "Now that we built the bag of words, we will use it as input and apply our grid search to find the best predictor!"
   ]
  },
  {
   "cell_type": "code",
   "execution_count": 2,
   "metadata": {},
   "outputs": [
    {
     "ename": "NameError",
     "evalue": "name 'dt' is not defined",
     "output_type": "error",
     "traceback": [
      "\u001b[0;31m---------------------------------------------------------------------------\u001b[0m",
      "\u001b[0;31mNameError\u001b[0m                                 Traceback (most recent call last)",
      "\u001b[0;32m/tmp/ipykernel_130205/3435757045.py\u001b[0m in \u001b[0;36m<module>\u001b[0;34m\u001b[0m\n\u001b[0;32m----> 1\u001b[0;31m \u001b[0mdt\u001b[0m\u001b[0;34m.\u001b[0m\u001b[0mfit\u001b[0m\u001b[0;34m(\u001b[0m\u001b[0mX_train\u001b[0m\u001b[0;34m,\u001b[0m\u001b[0my\u001b[0m\u001b[0;34m)\u001b[0m\u001b[0;34m\u001b[0m\u001b[0;34m\u001b[0m\u001b[0m\n\u001b[0m\u001b[1;32m      2\u001b[0m \u001b[0my_prediction\u001b[0m \u001b[0;34m=\u001b[0m \u001b[0mdt\u001b[0m\u001b[0;34m.\u001b[0m\u001b[0mpredict\u001b[0m\u001b[0;34m(\u001b[0m\u001b[0mX_test\u001b[0m\u001b[0;34m)\u001b[0m\u001b[0;34m\u001b[0m\u001b[0;34m\u001b[0m\u001b[0m\n",
      "\u001b[0;31mNameError\u001b[0m: name 'dt' is not defined"
     ]
    }
   ],
   "source": [
    "dt.fit(X_train,y)\n",
    "y_prediction = dt.predict(X_test)"
   ]
  },
  {
   "cell_type": "code",
   "execution_count": null,
   "metadata": {},
   "outputs": [
    {
     "name": "stdout",
     "output_type": "stream",
     "text": [
      "Accuracy:  0.5671834625322998\n",
      "Recall:  0.5892339753355301\n",
      "Precision:  0.5892339753355301\n",
      "F1:  0.5659415857195985\n",
      "Confusion Matrix: \n",
      " [[704 234  94]\n",
      " [341 573 118]\n",
      " [362 191 479]]\n"
     ]
    }
   ],
   "source": [
    "print(\"Accuracy: \", metrics.accuracy_score(y_test, y_prediction))\n",
    "print(\"Recall: \", metrics.precision_score(y_test, y_prediction, average='weighted'))\n",
    "print(\"Precision: \", metrics.precision_score(y_test, y_prediction, average='weighted'))\n",
    "print(\"F1: \", metrics.f1_score(y_test, y_prediction, average='weighted'))\n",
    "print(\"Confusion Matrix: \\n\", metrics.confusion_matrix(y_test, y_prediction))"
   ]
  },
  {
   "cell_type": "markdown",
   "metadata": {},
   "source": [
    "### TF-IDF"
   ]
  },
  {
   "cell_type": "code",
   "execution_count": 13,
   "metadata": {},
   "outputs": [],
   "source": [
    "X_train = df_train['benefitsReview']\n",
    "X_test = df_test['benefitsReview']\n",
    "\n",
    "y = df_train['effectiveness']\n",
    "y_test = df_test['effectiveness']\n",
    "\n",
    "vectorizer = TfidfVectorizer()\n",
    "\n",
    "X_train = vectorizer.fit_transform([tokenization(val) for val in X_train]).toarray() # creating the feature matrix\n",
    "X_test = vectorizer.transform([tokenization(val) for val in X_test]).toarray() # creating the feature matrix\n",
    "\n",
    "dt = decision()"
   ]
  },
  {
   "cell_type": "code",
   "execution_count": 14,
   "metadata": {},
   "outputs": [],
   "source": [
    "dt.fit(X_train,y)\n",
    "y_prediction = dt.predict(X_test)"
   ]
  },
  {
   "cell_type": "code",
   "execution_count": 15,
   "metadata": {},
   "outputs": [
    {
     "name": "stdout",
     "output_type": "stream",
     "text": [
      "Accuracy:  0.4428294573643411\n",
      "Recall:  0.3894257211490456\n",
      "Precision:  0.3894257211490456\n",
      "F1:  0.3852505972346568\n",
      "Confusion Matrix: \n",
      " [[ 80 207   8   1  12]\n",
      " [ 62 327   5   5  12]\n",
      " [  7  31  40   2   2]\n",
      " [ 15  40  10   4   7]\n",
      " [ 38 101   3   7   6]]\n"
     ]
    }
   ],
   "source": [
    "print(\"Accuracy: \", metrics.accuracy_score(y_test, y_prediction))\n",
    "print(\"Recall: \", metrics.precision_score(y_test, y_prediction, average='weighted'))\n",
    "print(\"Precision: \", metrics.precision_score(y_test, y_prediction, average='weighted'))\n",
    "print(\"F1: \", metrics.f1_score(y_test, y_prediction, average='weighted'))\n",
    "print(\"Confusion Matrix: \\n\", metrics.confusion_matrix(y_test, y_prediction))"
   ]
  },
  {
   "cell_type": "code",
   "execution_count": null,
   "metadata": {},
   "outputs": [],
   "source": [
    "X_train = df_train['sideEffectsReview']\n",
    "X_test = df_test['sideEffectsReview']\n",
    "\n",
    "y = df_train['sideEffects']\n",
    "y_test = df_test['sideEffects']\n",
    "\n",
    "vectorizer = TfidfVectorizer(ngram_range=(1,2))\n",
    "\n",
    "X_train = vectorizer.fit_transform([tokenization(val) for val in X_train]).toarray() # creating the feature matrix\n",
    "X_test = vectorizer.transform([tokenization(val) for val in X_test]).toarray() # creating the feature matrix\n",
    "\n",
    "dt = decision()"
   ]
  }
 ],
 "metadata": {
  "interpreter": {
   "hash": "916dbcbb3f70747c44a77c7bcd40155683ae19c65e1c03b4aa3499c5328201f1"
  },
  "kernelspec": {
   "display_name": "Python 3.9.7 64-bit",
   "language": "python",
   "name": "python3"
  },
  "language_info": {
   "codemirror_mode": {
    "name": "ipython",
    "version": 3
   },
   "file_extension": ".py",
   "mimetype": "text/x-python",
   "name": "python",
   "nbconvert_exporter": "python",
   "pygments_lexer": "ipython3",
   "version": "3.9.7"
  },
  "orig_nbformat": 4
 },
 "nbformat": 4,
 "nbformat_minor": 2
}
